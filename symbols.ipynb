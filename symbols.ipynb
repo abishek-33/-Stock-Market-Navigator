{
 "cells": [
  {
   "cell_type": "code",
   "execution_count": 1,
   "metadata": {},
   "outputs": [],
   "source": [
    "import pandas as pd"
   ]
  },
  {
   "cell_type": "code",
   "execution_count": 3,
   "metadata": {},
   "outputs": [
    {
     "data": {
      "text/html": [
       "<div>\n",
       "<style scoped>\n",
       "    .dataframe tbody tr th:only-of-type {\n",
       "        vertical-align: middle;\n",
       "    }\n",
       "\n",
       "    .dataframe tbody tr th {\n",
       "        vertical-align: top;\n",
       "    }\n",
       "\n",
       "    .dataframe thead th {\n",
       "        text-align: right;\n",
       "    }\n",
       "</style>\n",
       "<table border=\"1\" class=\"dataframe\">\n",
       "  <thead>\n",
       "    <tr style=\"text-align: right;\">\n",
       "      <th></th>\n",
       "      <th>Company Name</th>\n",
       "      <th>Industry</th>\n",
       "      <th>Symbol</th>\n",
       "      <th>Series</th>\n",
       "      <th>ISIN Code</th>\n",
       "    </tr>\n",
       "  </thead>\n",
       "  <tbody>\n",
       "    <tr>\n",
       "      <th>0</th>\n",
       "      <td>ACC Ltd.</td>\n",
       "      <td>CEMENT &amp; CEMENT PRODUCTS</td>\n",
       "      <td>ACC</td>\n",
       "      <td>EQ</td>\n",
       "      <td>INE012A01025</td>\n",
       "    </tr>\n",
       "    <tr>\n",
       "      <th>1</th>\n",
       "      <td>Abbott India Ltd.</td>\n",
       "      <td>PHARMA</td>\n",
       "      <td>ABBOTINDIA</td>\n",
       "      <td>EQ</td>\n",
       "      <td>INE358A01014</td>\n",
       "    </tr>\n",
       "    <tr>\n",
       "      <th>2</th>\n",
       "      <td>Adani Enterprises Ltd.</td>\n",
       "      <td>METALS</td>\n",
       "      <td>ADANIENT</td>\n",
       "      <td>EQ</td>\n",
       "      <td>INE423A01024</td>\n",
       "    </tr>\n",
       "    <tr>\n",
       "      <th>3</th>\n",
       "      <td>Adani Green Energy Ltd.</td>\n",
       "      <td>POWER</td>\n",
       "      <td>ADANIGREEN</td>\n",
       "      <td>BE</td>\n",
       "      <td>INE364U01010</td>\n",
       "    </tr>\n",
       "    <tr>\n",
       "      <th>4</th>\n",
       "      <td>Adani Ports and Special Economic Zone Ltd.</td>\n",
       "      <td>SERVICES</td>\n",
       "      <td>ADANIPORTS</td>\n",
       "      <td>EQ</td>\n",
       "      <td>INE742F01042</td>\n",
       "    </tr>\n",
       "  </tbody>\n",
       "</table>\n",
       "</div>"
      ],
      "text/plain": [
       "                                 Company Name                  Industry  \\\n",
       "0                                    ACC Ltd.  CEMENT & CEMENT PRODUCTS   \n",
       "1                           Abbott India Ltd.                    PHARMA   \n",
       "2                      Adani Enterprises Ltd.                    METALS   \n",
       "3                     Adani Green Energy Ltd.                     POWER   \n",
       "4  Adani Ports and Special Economic Zone Ltd.                  SERVICES   \n",
       "\n",
       "       Symbol Series     ISIN Code  \n",
       "0         ACC     EQ  INE012A01025  \n",
       "1  ABBOTINDIA     EQ  INE358A01014  \n",
       "2    ADANIENT     EQ  INE423A01024  \n",
       "3  ADANIGREEN     BE  INE364U01010  \n",
       "4  ADANIPORTS     EQ  INE742F01042  "
      ]
     },
     "execution_count": 3,
     "metadata": {},
     "output_type": "execute_result"
    }
   ],
   "source": [
    "df = pd.read_csv('dataset/stocks.csv')\n",
    "df.head()"
   ]
  },
  {
   "cell_type": "code",
   "execution_count": 4,
   "metadata": {},
   "outputs": [],
   "source": [
    "df = df[['Symbol']]"
   ]
  },
  {
   "cell_type": "code",
   "execution_count": 5,
   "metadata": {},
   "outputs": [
    {
     "data": {
      "text/html": [
       "<div>\n",
       "<style scoped>\n",
       "    .dataframe tbody tr th:only-of-type {\n",
       "        vertical-align: middle;\n",
       "    }\n",
       "\n",
       "    .dataframe tbody tr th {\n",
       "        vertical-align: top;\n",
       "    }\n",
       "\n",
       "    .dataframe thead th {\n",
       "        text-align: right;\n",
       "    }\n",
       "</style>\n",
       "<table border=\"1\" class=\"dataframe\">\n",
       "  <thead>\n",
       "    <tr style=\"text-align: right;\">\n",
       "      <th></th>\n",
       "      <th>Symbol</th>\n",
       "    </tr>\n",
       "  </thead>\n",
       "  <tbody>\n",
       "    <tr>\n",
       "      <th>0</th>\n",
       "      <td>ACC</td>\n",
       "    </tr>\n",
       "    <tr>\n",
       "      <th>1</th>\n",
       "      <td>ABBOTINDIA</td>\n",
       "    </tr>\n",
       "    <tr>\n",
       "      <th>2</th>\n",
       "      <td>ADANIENT</td>\n",
       "    </tr>\n",
       "    <tr>\n",
       "      <th>3</th>\n",
       "      <td>ADANIGREEN</td>\n",
       "    </tr>\n",
       "    <tr>\n",
       "      <th>4</th>\n",
       "      <td>ADANIPORTS</td>\n",
       "    </tr>\n",
       "  </tbody>\n",
       "</table>\n",
       "</div>"
      ],
      "text/plain": [
       "       Symbol\n",
       "0         ACC\n",
       "1  ABBOTINDIA\n",
       "2    ADANIENT\n",
       "3  ADANIGREEN\n",
       "4  ADANIPORTS"
      ]
     },
     "execution_count": 5,
     "metadata": {},
     "output_type": "execute_result"
    }
   ],
   "source": [
    "df.head()"
   ]
  },
  {
   "cell_type": "code",
   "execution_count": 6,
   "metadata": {},
   "outputs": [],
   "source": [
    "df.to_csv('dataset/stocks_filtered.csv', index=False)"
   ]
  },
  {
   "cell_type": "code",
   "execution_count": 10,
   "metadata": {},
   "outputs": [
    {
     "name": "stdout",
     "output_type": "stream",
     "text": [
      "{'address1': 'Devashish Building', 'address2': 'Alkem House Senapati Bapat Road Lower Parel (West)', 'city': 'Mumbai', 'zip': '400013', 'country': 'India', 'phone': '91 22 3982 9999', 'fax': '91 22 2495 2955', 'website': 'https://www.alkemlabs.com', 'industry': 'Drug Manufacturers - Specialty & Generic', 'industryKey': 'drug-manufacturers-specialty-generic', 'industryDisp': 'Drug Manufacturers - Specialty & Generic', 'sector': 'Healthcare', 'sectorKey': 'healthcare', 'sectorDisp': 'Healthcare', 'longBusinessSummary': 'Alkem Laboratories Limited, a pharmaceutical company, engages in the development, manufacture, and sale of pharmaceutical and nutraceutical products in India and internationally. The company offers branded generics, generic drugs, active pharmaceutical ingredients, and biosimilars, and nutraceuticals in acute and chronic therapeutic areas comprising anti-infective, dermatology, cardiac, respiratory, gastro-intestinal, central nervous system, urology, and gynaecology, as well as vitamins, minerals, and nutrients; and pain analgesic, anti-diabetic, and neurology products. Alkem Laboratories Limited was incorporated in 1973 and is headquartered in Mumbai, India.', 'fullTimeEmployees': 16871, 'companyOfficers': [{'maxAge': 1, 'name': 'Mr. Basudeo Narian Singh', 'age': 82, 'title': 'Executive Chairman', 'yearBorn': 1941, 'fiscalYear': 2023, 'totalPay': 192500000, 'exercisedValue': 0, 'unexercisedValue': 0}, {'maxAge': 1, 'name': 'Mr. Sarvesh  Singh', 'age': 42, 'title': 'VP of Sales & Marketing and Executive Director', 'yearBorn': 1981, 'fiscalYear': 2023, 'totalPay': 43300000, 'exercisedValue': 0, 'unexercisedValue': 0}, {'maxAge': 1, 'name': 'Mr. Sandeep Derjit Singh', 'age': 41, 'title': 'MD & Executive Director', 'yearBorn': 1982, 'fiscalYear': 2023, 'totalPay': 82700000, 'exercisedValue': 0, 'unexercisedValue': 0}, {'maxAge': 1, 'name': 'Mr. Mritunjay Kumar Singh', 'age': 60, 'title': 'Executive Director', 'yearBorn': 1963, 'fiscalYear': 2023, 'totalPay': 95900000, 'exercisedValue': 0, 'unexercisedValue': 0}, {'maxAge': 1, 'name': 'Mr. Srinivas  Singh', 'age': 34, 'title': 'Executive Director', 'yearBorn': 1989, 'fiscalYear': 2023, 'totalPay': 98914000, 'exercisedValue': 0, 'unexercisedValue': 0}, {'maxAge': 1, 'name': 'Ms. Madhurima  Singh', 'age': 57, 'title': 'Executive Director', 'yearBorn': 1966, 'fiscalYear': 2023, 'totalPay': 94900000, 'exercisedValue': 0, 'unexercisedValue': 0}, {'maxAge': 1, 'name': 'Dr. Vikas  Gupta', 'title': 'Chief Executive Officer', 'fiscalYear': 2023, 'exercisedValue': 0, 'unexercisedValue': 0}, {'maxAge': 1, 'name': 'Mr. Nitin  Agrawal', 'title': 'Chief Financial Officer', 'fiscalYear': 2023, 'exercisedValue': 0, 'unexercisedValue': 0}, {'maxAge': 1, 'name': 'Mr. Satish Kumar Singh', 'age': 63, 'title': 'Head of Operations', 'yearBorn': 1960, 'fiscalYear': 2023, 'exercisedValue': 0, 'unexercisedValue': 0}, {'maxAge': 1, 'name': 'Mr. Amit Kumar Khandelia', 'title': 'Investor Relations Officer', 'fiscalYear': 2023, 'exercisedValue': 0, 'unexercisedValue': 0}], 'compensationAsOfEpochDate': 1703980800, 'maxAge': 86400, 'priceHint': 2, 'previousClose': 4985.35, 'open': 4990.0, 'dayLow': 4857.05, 'dayHigh': 5095.65, 'regularMarketPreviousClose': 4985.35, 'regularMarketOpen': 4990.0, 'regularMarketDayLow': 4857.05, 'regularMarketDayHigh': 5095.65, 'dividendRate': 45.0, 'dividendYield': 0.009, 'exDividendDate': 1708041600, 'payoutRatio': 0.19, 'fiveYearAvgDividendYield': 0.89, 'beta': 0.344, 'trailingPE': 38.334473, 'forwardPE': 28.097574, 'volume': 342920, 'regularMarketVolume': 342920, 'averageVolume': 259164, 'averageVolume10days': 154029, 'averageDailyVolume10Day': 154029, 'ask': 5027.5, 'marketCap': 603229388800, 'fiftyTwoWeekLow': 3087.6, 'fiftyTwoWeekHigh': 5520.0, 'priceToSalesTrailing12Months': 4.7745147, 'fiftyDayAverage': 5119.441, 'twoHundredDayAverage': 4237.7207, 'trailingAnnualDividendRate': 45.0, 'trailingAnnualDividendYield': 0.009026447, 'currency': 'INR', 'enterpriseValue': 578230157312, 'profitMargins': 0.12452, 'floatShares': 35918797, 'sharesOutstanding': 119565000, 'heldPercentInsiders': 0.63799, 'heldPercentInstitutions': 0.19868, 'impliedSharesOutstanding': 121940000, 'bookValue': 823.221, 'priceToBook': 6.1286097, 'lastFiscalYearEnd': 1680220800, 'nextFiscalYearEnd': 1711843200, 'mostRecentQuarter': 1703980800, 'earningsQuarterlyGrowth': 0.308, 'netIncomeToCommon': 15731900416, 'trailingEps': 131.61, 'forwardEps': 179.56, 'pegRatio': 0.26, 'enterpriseToRevenue': 4.577, 'enterpriseToEbitda': 26.362, '52WeekChange': 0.601333, 'SandP52WeekChange': 0.3150251, 'lastDividendValue': 35.0, 'lastDividendDate': 1708041600, 'exchange': 'NSI', 'quoteType': 'EQUITY', 'symbol': 'ALKEM.NS', 'underlyingSymbol': 'ALKEM.NS', 'shortName': 'ALKEM LAB LTD', 'longName': 'Alkem Laboratories Limited', 'firstTradeDateEpochUtc': 1450842300, 'timeZoneFullName': 'Asia/Kolkata', 'timeZoneShortName': 'IST', 'uuid': '0a014985-39ad-31c9-9263-b6f7daf88513', 'messageBoardId': 'finmb_9104830', 'gmtOffSetMilliseconds': 19800000, 'currentPrice': 5045.2, 'targetHighPrice': 6780.0, 'targetLowPrice': 3513.0, 'targetMeanPrice': 4880.67, 'targetMedianPrice': 4748.0, 'recommendationMean': 3.0, 'recommendationKey': 'hold', 'numberOfAnalystOpinions': 24, 'totalCash': 36097900544, 'totalCashPerShare': 301.908, 'ebitda': 21934125056, 'totalDebt': 14429599744, 'totalRevenue': 126343602176, 'debtToEquity': 14.113, 'revenuePerShare': 1056.655, 'earningsGrowth': 0.308, 'revenueGrowth': 0.093, 'grossMargins': 0.58846, 'ebitdaMargins': 0.17361, 'operatingMargins': 0.19195, 'financialCurrency': 'INR', 'trailingPegRatio': None}\n"
     ]
    }
   ],
   "source": [
    "import yfinance as yf\n",
    "\n",
    "def query_stock(symbol):\n",
    "    # Create Ticker object for the stock symbol\n",
    "    stock = yf.Ticker(symbol)\n",
    "\n",
    "    # Get stock information\n",
    "    stock_info = stock.info\n",
    "    print(stock_info)\n",
    "\n",
    "if __name__ == \"__main__\":\n",
    "    # Example usage\n",
    "    symbol = \"ALKEM.NS\"  # Apple Inc. stock symbol\n",
    "    query_stock(symbol)\n"
   ]
  },
  {
   "cell_type": "code",
   "execution_count": 11,
   "metadata": {},
   "outputs": [
    {
     "name": "stdout",
     "output_type": "stream",
     "text": [
      "Symbols with '.NS' appended have been saved to dataset/updated_symbols.csv\n"
     ]
    }
   ],
   "source": [
    "import csv\n",
    "\n",
    "def append_ns_to_symbols(input_file, output_file):\n",
    "    with open(input_file, 'r', newline='', encoding='utf-8') as csvfile:\n",
    "        reader = csv.DictReader(csvfile)\n",
    "        symbols = [row['Symbol'] + \".NS\" for row in reader]\n",
    "\n",
    "    with open(output_file, 'w', newline='', encoding='utf-8') as csvfile:\n",
    "        writer = csv.writer(csvfile)\n",
    "        writer.writerow(['Symbol'])\n",
    "        for symbol in symbols:\n",
    "            writer.writerow([symbol])\n",
    "\n",
    "if __name__ == \"__main__\":\n",
    "    input_file = 'dataset/stocks_filtered.csv'  # Change this to your input CSV file\n",
    "    output_file = 'dataset/updated_symbols.csv'  # Change this to the desired output CSV file\n",
    "\n",
    "    append_ns_to_symbols(input_file, output_file)\n",
    "    print(\"Symbols with '.NS' appended have been saved to\", output_file)\n"
   ]
  },
  {
   "cell_type": "markdown",
   "metadata": {},
   "source": [
    "Appending international symbols"
   ]
  },
  {
   "cell_type": "code",
   "execution_count": 15,
   "metadata": {},
   "outputs": [
    {
     "name": "stdout",
     "output_type": "stream",
     "text": [
      "International symbols have been appended to dataset/updated_symbols.csv\n"
     ]
    }
   ],
   "source": [
    "import yfinance as yf\n",
    "import csv\n",
    "\n",
    "def get_international_symbols():\n",
    "    # Fetching data for S&P 500 index to get international stock symbols\n",
    "    sp500_data = yf.Tickers('^GSPC')\n",
    "    intl_symbols = sp500_data.tickers\n",
    "\n",
    "    # Extracting the symbols\n",
    "    symbols = [intl_symbol for intl_symbol in intl_symbols]\n",
    "\n",
    "    return symbols\n",
    "\n",
    "def append_international_symbols(csv_file):\n",
    "    international_symbols = get_international_symbols()\n",
    "\n",
    "    with open(csv_file, 'a', newline='', encoding='utf-8') as csvfile:\n",
    "        writer = csv.writer(csvfile)\n",
    "        for symbol in international_symbols:\n",
    "            writer.writerow([symbol])\n",
    "\n",
    "if __name__ == \"__main__\":\n",
    "    csv_file = 'dataset/updated_symbols.csv'  # Your updated CSV file containing Indian stock symbols\n",
    "    append_international_symbols(csv_file)\n",
    "    print(\"International symbols have been appended to\", csv_file)"
   ]
  },
  {
   "cell_type": "code",
   "execution_count": 16,
   "metadata": {},
   "outputs": [
    {
     "data": {
      "text/html": [
       "<div>\n",
       "<style scoped>\n",
       "    .dataframe tbody tr th:only-of-type {\n",
       "        vertical-align: middle;\n",
       "    }\n",
       "\n",
       "    .dataframe tbody tr th {\n",
       "        vertical-align: top;\n",
       "    }\n",
       "\n",
       "    .dataframe thead th {\n",
       "        text-align: right;\n",
       "    }\n",
       "</style>\n",
       "<table border=\"1\" class=\"dataframe\">\n",
       "  <thead>\n",
       "    <tr style=\"text-align: right;\">\n",
       "      <th></th>\n",
       "      <th>symbol</th>\n",
       "      <th>name</th>\n",
       "      <th>exchange</th>\n",
       "      <th>exchangeShortName</th>\n",
       "      <th>type</th>\n",
       "      <th>country</th>\n",
       "    </tr>\n",
       "  </thead>\n",
       "  <tbody>\n",
       "    <tr>\n",
       "      <th>0</th>\n",
       "      <td>NXFIL</td>\n",
       "      <td>NX Filtration N.V.</td>\n",
       "      <td>Amsterdam</td>\n",
       "      <td>AMS</td>\n",
       "      <td>stock</td>\n",
       "      <td>NL</td>\n",
       "    </tr>\n",
       "    <tr>\n",
       "      <th>1</th>\n",
       "      <td>603991</td>\n",
       "      <td>Shenzhen Original Advanced Compounds Co., Ltd.</td>\n",
       "      <td>Shanghai</td>\n",
       "      <td>SHH</td>\n",
       "      <td>stock</td>\n",
       "      <td>CN</td>\n",
       "    </tr>\n",
       "    <tr>\n",
       "      <th>2</th>\n",
       "      <td>YRK</td>\n",
       "      <td>York Timber Holdings Limited</td>\n",
       "      <td>Johannesburg</td>\n",
       "      <td>JNB</td>\n",
       "      <td>stock</td>\n",
       "      <td>ZA</td>\n",
       "    </tr>\n",
       "    <tr>\n",
       "      <th>3</th>\n",
       "      <td>002440</td>\n",
       "      <td>Zhejiang Runtu Co., Ltd.</td>\n",
       "      <td>Shenzhen</td>\n",
       "      <td>SHZ</td>\n",
       "      <td>stock</td>\n",
       "      <td>CN</td>\n",
       "    </tr>\n",
       "    <tr>\n",
       "      <th>4</th>\n",
       "      <td>211900</td>\n",
       "      <td>KODEX Dividend Growth</td>\n",
       "      <td>KSE</td>\n",
       "      <td>KSC</td>\n",
       "      <td>etf</td>\n",
       "      <td>PK</td>\n",
       "    </tr>\n",
       "  </tbody>\n",
       "</table>\n",
       "</div>"
      ],
      "text/plain": [
       "   symbol                                            name      exchange  \\\n",
       "0   NXFIL                              NX Filtration N.V.     Amsterdam   \n",
       "1  603991  Shenzhen Original Advanced Compounds Co., Ltd.      Shanghai   \n",
       "2     YRK                    York Timber Holdings Limited  Johannesburg   \n",
       "3  002440                        Zhejiang Runtu Co., Ltd.      Shenzhen   \n",
       "4  211900                           KODEX Dividend Growth           KSE   \n",
       "\n",
       "  exchangeShortName   type country  \n",
       "0               AMS  stock      NL  \n",
       "1               SHH  stock      CN  \n",
       "2               JNB  stock      ZA  \n",
       "3               SHZ  stock      CN  \n",
       "4               KSC    etf      PK  "
      ]
     },
     "execution_count": 16,
     "metadata": {},
     "output_type": "execute_result"
    }
   ],
   "source": [
    "df = pd.read_csv('dataset/tickers.csv')\n",
    "df.head()"
   ]
  },
  {
   "cell_type": "code",
   "execution_count": 17,
   "metadata": {},
   "outputs": [
    {
     "name": "stdout",
     "output_type": "stream",
     "text": [
      "Rows with country 'IN' removed. Filtered data saved to dataset/filtered_tickers.csv\n"
     ]
    }
   ],
   "source": [
    "import pandas as pd\n",
    "\n",
    "def filter_dataframe(input_file, output_file):\n",
    "    # Read the CSV file into a DataFrame\n",
    "    df = pd.read_csv(input_file)\n",
    "\n",
    "    # Filter out rows where the country column has the value \"IN\" (India)\n",
    "    df_filtered = df[df['country'] != 'IN']\n",
    "\n",
    "    # Save the filtered DataFrame to a new CSV file\n",
    "    df_filtered.to_csv(output_file, index=False)\n",
    "\n",
    "if __name__ == \"__main__\":\n",
    "    input_file = 'dataset/tickers.csv'  # Change this to your input CSV file\n",
    "    output_file = 'dataset/filtered_tickers.csv'  # Change this to the desired output CSV file\n",
    "\n",
    "    filter_dataframe(input_file, output_file)\n",
    "    print(\"Rows with country 'IN' removed. Filtered data saved to\", output_file)\n"
   ]
  },
  {
   "cell_type": "code",
   "execution_count": 18,
   "metadata": {},
   "outputs": [
    {
     "data": {
      "text/html": [
       "<div>\n",
       "<style scoped>\n",
       "    .dataframe tbody tr th:only-of-type {\n",
       "        vertical-align: middle;\n",
       "    }\n",
       "\n",
       "    .dataframe tbody tr th {\n",
       "        vertical-align: top;\n",
       "    }\n",
       "\n",
       "    .dataframe thead th {\n",
       "        text-align: right;\n",
       "    }\n",
       "</style>\n",
       "<table border=\"1\" class=\"dataframe\">\n",
       "  <thead>\n",
       "    <tr style=\"text-align: right;\">\n",
       "      <th></th>\n",
       "      <th>symbol</th>\n",
       "      <th>name</th>\n",
       "      <th>exchange</th>\n",
       "      <th>exchangeShortName</th>\n",
       "      <th>type</th>\n",
       "      <th>country</th>\n",
       "    </tr>\n",
       "  </thead>\n",
       "  <tbody>\n",
       "    <tr>\n",
       "      <th>0</th>\n",
       "      <td>NXFIL</td>\n",
       "      <td>NX Filtration N.V.</td>\n",
       "      <td>Amsterdam</td>\n",
       "      <td>AMS</td>\n",
       "      <td>stock</td>\n",
       "      <td>NL</td>\n",
       "    </tr>\n",
       "    <tr>\n",
       "      <th>1</th>\n",
       "      <td>603991</td>\n",
       "      <td>Shenzhen Original Advanced Compounds Co., Ltd.</td>\n",
       "      <td>Shanghai</td>\n",
       "      <td>SHH</td>\n",
       "      <td>stock</td>\n",
       "      <td>CN</td>\n",
       "    </tr>\n",
       "    <tr>\n",
       "      <th>2</th>\n",
       "      <td>YRK</td>\n",
       "      <td>York Timber Holdings Limited</td>\n",
       "      <td>Johannesburg</td>\n",
       "      <td>JNB</td>\n",
       "      <td>stock</td>\n",
       "      <td>ZA</td>\n",
       "    </tr>\n",
       "    <tr>\n",
       "      <th>3</th>\n",
       "      <td>002440</td>\n",
       "      <td>Zhejiang Runtu Co., Ltd.</td>\n",
       "      <td>Shenzhen</td>\n",
       "      <td>SHZ</td>\n",
       "      <td>stock</td>\n",
       "      <td>CN</td>\n",
       "    </tr>\n",
       "    <tr>\n",
       "      <th>4</th>\n",
       "      <td>211900</td>\n",
       "      <td>KODEX Dividend Growth</td>\n",
       "      <td>KSE</td>\n",
       "      <td>KSC</td>\n",
       "      <td>etf</td>\n",
       "      <td>PK</td>\n",
       "    </tr>\n",
       "  </tbody>\n",
       "</table>\n",
       "</div>"
      ],
      "text/plain": [
       "   symbol                                            name      exchange  \\\n",
       "0   NXFIL                              NX Filtration N.V.     Amsterdam   \n",
       "1  603991  Shenzhen Original Advanced Compounds Co., Ltd.      Shanghai   \n",
       "2     YRK                    York Timber Holdings Limited  Johannesburg   \n",
       "3  002440                        Zhejiang Runtu Co., Ltd.      Shenzhen   \n",
       "4  211900                           KODEX Dividend Growth           KSE   \n",
       "\n",
       "  exchangeShortName   type country  \n",
       "0               AMS  stock      NL  \n",
       "1               SHH  stock      CN  \n",
       "2               JNB  stock      ZA  \n",
       "3               SHZ  stock      CN  \n",
       "4               KSC    etf      PK  "
      ]
     },
     "execution_count": 18,
     "metadata": {},
     "output_type": "execute_result"
    }
   ],
   "source": [
    "df = pd.read_csv('dataset/filtered_tickers.csv')\n",
    "df.head()"
   ]
  },
  {
   "cell_type": "code",
   "execution_count": 19,
   "metadata": {},
   "outputs": [],
   "source": [
    "df = df[['symbol']]"
   ]
  },
  {
   "cell_type": "code",
   "execution_count": 20,
   "metadata": {},
   "outputs": [
    {
     "data": {
      "text/html": [
       "<div>\n",
       "<style scoped>\n",
       "    .dataframe tbody tr th:only-of-type {\n",
       "        vertical-align: middle;\n",
       "    }\n",
       "\n",
       "    .dataframe tbody tr th {\n",
       "        vertical-align: top;\n",
       "    }\n",
       "\n",
       "    .dataframe thead th {\n",
       "        text-align: right;\n",
       "    }\n",
       "</style>\n",
       "<table border=\"1\" class=\"dataframe\">\n",
       "  <thead>\n",
       "    <tr style=\"text-align: right;\">\n",
       "      <th></th>\n",
       "      <th>symbol</th>\n",
       "    </tr>\n",
       "  </thead>\n",
       "  <tbody>\n",
       "    <tr>\n",
       "      <th>0</th>\n",
       "      <td>NXFIL</td>\n",
       "    </tr>\n",
       "    <tr>\n",
       "      <th>1</th>\n",
       "      <td>603991</td>\n",
       "    </tr>\n",
       "    <tr>\n",
       "      <th>2</th>\n",
       "      <td>YRK</td>\n",
       "    </tr>\n",
       "    <tr>\n",
       "      <th>3</th>\n",
       "      <td>002440</td>\n",
       "    </tr>\n",
       "    <tr>\n",
       "      <th>4</th>\n",
       "      <td>211900</td>\n",
       "    </tr>\n",
       "  </tbody>\n",
       "</table>\n",
       "</div>"
      ],
      "text/plain": [
       "   symbol\n",
       "0   NXFIL\n",
       "1  603991\n",
       "2     YRK\n",
       "3  002440\n",
       "4  211900"
      ]
     },
     "execution_count": 20,
     "metadata": {},
     "output_type": "execute_result"
    }
   ],
   "source": [
    "df.head()"
   ]
  },
  {
   "cell_type": "code",
   "execution_count": 21,
   "metadata": {},
   "outputs": [],
   "source": [
    "df.to_csv('dataset/filtered_tickers_data.csv', index=False)"
   ]
  },
  {
   "cell_type": "markdown",
   "metadata": {},
   "source": [
    "Merging data"
   ]
  },
  {
   "cell_type": "code",
   "execution_count": 25,
   "metadata": {},
   "outputs": [
    {
     "name": "stdout",
     "output_type": "stream",
     "text": [
      "Data from filtered tickers data CSV file appended to updated symbols CSV file. Merged data saved to dataset/merged_symbols.csv\n"
     ]
    }
   ],
   "source": [
    "import pandas as pd\n",
    "\n",
    "def append_data(input_file, data_file, output_file):\n",
    "    # Read the updated symbols CSV file into a DataFrame\n",
    "    df_updated = pd.read_csv(input_file, header=None, names=['Symbol'])\n",
    "\n",
    "    # Read the filtered tickers data CSV file into a DataFrame\n",
    "    df_data = pd.read_csv(data_file, header=None, names=['Symbol'])\n",
    "\n",
    "    # Concatenate the data frames\n",
    "    df_merged = pd.concat([df_updated, df_data], ignore_index=True)\n",
    "\n",
    "    # Save the merged DataFrame to a new CSV file\n",
    "    df_merged.to_csv(output_file, index=False, header=False)\n",
    "\n",
    "if __name__ == \"__main__\":\n",
    "    input_file = 'dataset/updated_symbols.csv'  # Updated symbols CSV file\n",
    "    data_file = 'dataset/filtered_tickers_data.csv'  # Filtered tickers data CSV file\n",
    "    output_file = 'dataset/merged_symbols.csv'  # Merged output CSV file\n",
    "\n",
    "    append_data(input_file, data_file, output_file)\n",
    "    print(\"Data from filtered tickers data CSV file appended to updated symbols CSV file. Merged data saved to\", output_file)\n"
   ]
  }
 ],
 "metadata": {
  "kernelspec": {
   "display_name": "venv",
   "language": "python",
   "name": "python3"
  },
  "language_info": {
   "codemirror_mode": {
    "name": "ipython",
    "version": 3
   },
   "file_extension": ".py",
   "mimetype": "text/x-python",
   "name": "python",
   "nbconvert_exporter": "python",
   "pygments_lexer": "ipython3",
   "version": "3.11.5"
  }
 },
 "nbformat": 4,
 "nbformat_minor": 2
}
